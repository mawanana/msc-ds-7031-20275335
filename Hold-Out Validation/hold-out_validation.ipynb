{
 "cells": [
  {
   "cell_type": "code",
   "execution_count": 2,
   "id": "246218e4-382a-41d3-ac74-0fe527708371",
   "metadata": {},
   "outputs": [
    {
     "name": "stdout",
     "output_type": "stream",
     "text": [
      "Training Dataset:\n",
      "        Index Estate_x Division  EmpCode Gender  DateofJoin PAMACT  \\\n",
      "306502   1066      EST       ST   120089      M  2001-11-01      A   \n",
      "82839     119      EST       HO   115948      M  2005-05-02      A   \n",
      "438584   1428      EST       UD   543481      F  2000-02-01      A   \n",
      "102152    278      EST       HO  1071307      M  2000-05-01      A   \n",
      "16419      32      EST       HO    68175      F  1982-07-01      A   \n",
      "\n",
      "        EmployeeAge   index Estate_y Work  Workdayfraction   Qty  ExtraKilos  \\\n",
      "306502         14.0  640622      EST  ABS              1.0  67.0        13.0   \n",
      "82839          10.0  571779      EST   BB              1.0  62.0         0.0   \n",
      "438584         15.0  663735      EST  ABS              1.0  69.0         9.0   \n",
      "102152         15.0  469910      EST  ABS              1.0  53.0        12.0   \n",
      "16419          33.0   99894      EST  PLK              1.0  26.0         9.0   \n",
      "\n",
      "        DateofWork  \n",
      "306502  2015-02-06  \n",
      "82839   2013-01-24  \n",
      "438584  2014-04-16  \n",
      "102152  2013-12-25  \n",
      "16419   2012-08-28  \n",
      "Test Dataset:\n",
      "        Index Estate_x Division  EmpCode Gender  DateofJoin PAMACT  \\\n",
      "461739   1459      EST       UD   569236      M  2002-12-12      A   \n",
      "412637   1396      EST       UD   521867      F  1975-10-18      A   \n",
      "290833   1043      EST       ST   108070      F  1993-01-01      A   \n",
      "413571   1397      EST       UD   524493      F  1993-10-08      A   \n",
      "374600   1350      EST       UD   480356      M  1987-10-20      A   \n",
      "\n",
      "        EmployeeAge   index Estate_y Work  Workdayfraction   Qty  ExtraKilos  \\\n",
      "461739         13.0  315505      EST  LLO              1.0  41.0         0.0   \n",
      "412637         40.0  508068      EST  XXX              1.0  56.0        18.0   \n",
      "290833         23.0  486006      EST  PLK              1.0  55.0         0.0   \n",
      "413571         22.0  882290      EST  ABS              1.0  89.0         6.0   \n",
      "374600         28.0  513065      EST  WDC              1.0  57.0         0.0   \n",
      "\n",
      "        DateofWork  \n",
      "461739  2014-09-26  \n",
      "412637  2012-10-20  \n",
      "290833  2013-08-05  \n",
      "413571  2015-11-07  \n",
      "374600  2014-03-10  \n"
     ]
    }
   ],
   "source": [
    "import pandas as pd\n",
    "from sklearn.model_selection import train_test_split\n",
    "\n",
    "# Load your dataset\n",
    "df = pd.read_csv('Master_Dataset.csv')\n",
    "\n",
    "# Split the dataset into training (80%) and test (20%) sets for features only\n",
    "X_train, X_test = train_test_split(df, test_size=0.2, random_state=42)\n",
    "\n",
    "# Save the training and test datasets as CSV files\n",
    "X_train.to_csv('holdout_train_data.csv', index=False)\n",
    "X_test.to_csv('holdout_test_data.csv', index=False)\n",
    "\n",
    "# Print the first few rows of the training and test sets\n",
    "print(\"Training Dataset:\")\n",
    "print(X_train.head())\n",
    "print(\"Test Dataset:\")\n",
    "print(X_test.head())\n"
   ]
  },
  {
   "cell_type": "code",
   "execution_count": null,
   "id": "2182e0b8-360a-42d2-b07a-11d4bd77066d",
   "metadata": {},
   "outputs": [],
   "source": []
  }
 ],
 "metadata": {
  "kernelspec": {
   "display_name": "Python 3 (ipykernel)",
   "language": "python",
   "name": "python3"
  },
  "language_info": {
   "codemirror_mode": {
    "name": "ipython",
    "version": 3
   },
   "file_extension": ".py",
   "mimetype": "text/x-python",
   "name": "python",
   "nbconvert_exporter": "python",
   "pygments_lexer": "ipython3",
   "version": "3.8.10"
  }
 },
 "nbformat": 4,
 "nbformat_minor": 5
}

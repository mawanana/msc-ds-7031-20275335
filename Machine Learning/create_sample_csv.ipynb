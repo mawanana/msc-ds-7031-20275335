{
 "cells": [
  {
   "cell_type": "code",
   "execution_count": 2,
   "id": "1c376e3b-e4a0-4e23-ac79-c84902863e25",
   "metadata": {},
   "outputs": [],
   "source": [
    "import pandas as pd\n",
    "\n",
    "# Load the original dataset from \"Dataset.csv\"\n",
    "original_dataset = pd.read_csv(\"Dataset.csv\")\n",
    "\n",
    "# Select the first 5000 records\n",
    "selected_records = original_dataset.head(50000)\n",
    "\n",
    "# Save the selected records to \"Dataset00.csv\"\n",
    "selected_records.to_csv(\"Sample.csv\", index=False)\n"
   ]
  },
  {
   "cell_type": "code",
   "execution_count": 5,
   "id": "4bd55b67-463e-4963-930d-5c0ec6ec6559",
   "metadata": {},
   "outputs": [],
   "source": [
    "import pandas as pd\n",
    "import random\n",
    "\n",
    "# Load the original dataset\n",
    "original_dataset = pd.read_csv('Dataset.csv')\n",
    "\n",
    "# Get the total number of records in the dataset\n",
    "total_records = original_dataset.shape[0]\n",
    "\n",
    "# Set the number of random records you want to select (e.g., 50,000)\n",
    "num_records_to_select = 5000\n",
    "\n",
    "# Create a list of random indices\n",
    "random_indices = random.sample(range(total_records), num_records_to_select)\n",
    "\n",
    "# Select the random records\n",
    "random_dataset = original_dataset.iloc[random_indices]\n",
    "\n",
    "# Save the selected records to a new CSV file\n",
    "random_dataset.to_csv('Sample02.csv', index=False)\n"
   ]
  },
  {
   "cell_type": "code",
   "execution_count": null,
   "id": "b92398f8-9fce-4c2f-8f87-851e03a935b5",
   "metadata": {},
   "outputs": [],
   "source": []
  }
 ],
 "metadata": {
  "kernelspec": {
   "display_name": "Python 3 (ipykernel)",
   "language": "python",
   "name": "python3"
  },
  "language_info": {
   "codemirror_mode": {
    "name": "ipython",
    "version": 3
   },
   "file_extension": ".py",
   "mimetype": "text/x-python",
   "name": "python",
   "nbconvert_exporter": "python",
   "pygments_lexer": "ipython3",
   "version": "3.8.10"
  }
 },
 "nbformat": 4,
 "nbformat_minor": 5
}

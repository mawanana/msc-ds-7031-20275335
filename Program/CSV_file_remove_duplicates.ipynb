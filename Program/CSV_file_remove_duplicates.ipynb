{
 "cells": [
  {
   "cell_type": "code",
   "execution_count": 6,
   "id": "0d8e1b2d-53cb-4a0b-9fd3-d1762fa3caaf",
   "metadata": {},
   "outputs": [
    {
     "name": "stdout",
     "output_type": "stream",
     "text": [
      "Duplicate Records:\n",
      "        Year  Month  Day Estate Division  EmpCode Work  Workdayfraction  Qty  \\\n",
      "915975  2013      7   26    EST       UD   824362  ABS              1.0  NaN   \n",
      "915976  2013      7   26    EST       UD   824362  ABS              1.0  NaN   \n",
      "\n",
      "        ExtraKilos  \n",
      "915975         2.0  \n",
      "915976         2.0  \n"
     ]
    }
   ],
   "source": [
    "import pandas as pd\n",
    "\n",
    "# Load the CSV file into a DataFrame\n",
    "file_path = 'data/WorkDetails.csv'\n",
    "df = pd.read_csv(file_path)\n",
    "\n",
    "# Remove duplicates based on all columns\n",
    "df_no_duplicates = df.drop_duplicates()\n",
    "\n",
    "# Find and print duplicate records\n",
    "duplicate_records = df[df.duplicated(keep=False)]\n",
    "print(\"Duplicate Records:\")\n",
    "print(duplicate_records)\n",
    "\n",
    "# Save the DataFrame without duplicates to a new CSV file\n",
    "output_path = 'data/WorkDetails01.csv'\n",
    "df_no_duplicates.to_csv(output_path, index=False)\n"
   ]
  },
  {
   "cell_type": "code",
   "execution_count": null,
   "id": "84b84322-537d-4dec-9450-a36268b977bb",
   "metadata": {},
   "outputs": [],
   "source": []
  }
 ],
 "metadata": {
  "kernelspec": {
   "display_name": "Python 3 (ipykernel)",
   "language": "python",
   "name": "python3"
  },
  "language_info": {
   "codemirror_mode": {
    "name": "ipython",
    "version": 3
   },
   "file_extension": ".py",
   "mimetype": "text/x-python",
   "name": "python",
   "nbconvert_exporter": "python",
   "pygments_lexer": "ipython3",
   "version": "3.8.10"
  }
 },
 "nbformat": 4,
 "nbformat_minor": 5
}

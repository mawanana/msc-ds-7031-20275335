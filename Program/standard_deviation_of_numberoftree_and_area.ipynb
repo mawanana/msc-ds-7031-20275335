{
 "cells": [
  {
   "cell_type": "code",
   "execution_count": 3,
   "id": "00e8ad97-fa22-49bd-97f8-f29021b2154c",
   "metadata": {},
   "outputs": [
    {
     "name": "stdout",
     "output_type": "stream",
     "text": [
      "Standard Deviation of Area (Ha): 3.1882257131250884\n",
      "Standard Deviation of NumberOfTree: 23186.261105538353\n"
     ]
    }
   ],
   "source": [
    "import pandas as pd\n",
    "\n",
    "# Read the CSV file into a DataFrame\n",
    "df = pd.read_csv(\"data/Fields.csv\")\n",
    "\n",
    "# Calculate the standard deviation for \"Area (Ha)\" and \"NumberOfTree\"\n",
    "std_deviation_area = df[\"Area (Ha)\"].std()\n",
    "std_deviation_trees = df[\"NumberOfTree\"].std()\n",
    "\n",
    "print(f\"Standard Deviation of Area (Ha): {std_deviation_area}\")\n",
    "print(f\"Standard Deviation of NumberOfTree: {std_deviation_trees}\")\n"
   ]
  },
  {
   "cell_type": "code",
   "execution_count": null,
   "id": "4276848e-33b4-4d07-a5e9-aed5fa9e49ed",
   "metadata": {},
   "outputs": [],
   "source": []
  }
 ],
 "metadata": {
  "kernelspec": {
   "display_name": "Python 3 (ipykernel)",
   "language": "python",
   "name": "python3"
  },
  "language_info": {
   "codemirror_mode": {
    "name": "ipython",
    "version": 3
   },
   "file_extension": ".py",
   "mimetype": "text/x-python",
   "name": "python",
   "nbconvert_exporter": "python",
   "pygments_lexer": "ipython3",
   "version": "3.8.10"
  }
 },
 "nbformat": 4,
 "nbformat_minor": 5
}

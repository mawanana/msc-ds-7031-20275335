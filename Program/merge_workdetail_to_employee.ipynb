{
 "cells": [
  {
   "cell_type": "code",
   "execution_count": 1,
   "id": "84a967bb-11f9-4afa-9131-39ba20c48b1c",
   "metadata": {},
   "outputs": [
    {
     "name": "stdout",
     "output_type": "stream",
     "text": [
      "        Index Estate_x Division  EmpCode Gender  DateofJoin PAMACT  \\\n",
      "0           1      EST       HO     2727      F  1972-01-01      A   \n",
      "1           1      EST       HO     2727      F  1972-01-01      A   \n",
      "2           1      EST       HO     2727      F  1972-01-01      A   \n",
      "3           1      EST       HO     2727      F  1972-01-01      A   \n",
      "4           1      EST       HO     2727      F  1972-01-01      A   \n",
      "...       ...      ...      ...      ...    ...         ...    ...   \n",
      "481881   1509      EST       UD   819615      F  1971-04-15      T   \n",
      "481882   1509      EST       UD   819615      F  1971-04-15      T   \n",
      "481883   1509      EST       UD   819615      F  1971-04-15      T   \n",
      "481884   1509      EST       UD   819615      F  1971-04-15      T   \n",
      "481885   1509      EST       UD   819615      F  1971-04-15      T   \n",
      "\n",
      "        EmployeeAge   index Estate_y Work  Workdayfraction    Qty  ExtraKilos  \\\n",
      "0              44.0  902891      EST  PLK              1.0  104.0         0.0   \n",
      "1              44.0  902894      EST  PLK              1.0  104.0         8.0   \n",
      "2              44.0  902895      EST  PLK              1.0  104.0         0.0   \n",
      "3              44.0  902897      EST  PLK              1.0  104.0         2.0   \n",
      "4              44.0  902904      EST  PLK              1.0  104.0        18.0   \n",
      "...             ...     ...      ...  ...              ...    ...         ...   \n",
      "481881         44.0  889209      EST  ABS              1.0   92.0        11.0   \n",
      "481882         44.0  890454      EST  ABS              1.0   93.0         7.0   \n",
      "481883         44.0  891756      EST  ABS              1.0   94.0         4.0   \n",
      "481884         44.0  892126      EST  ABS              1.0   94.0        10.0   \n",
      "481885         44.0  892320      EST  ABS              1.0   94.0        13.0   \n",
      "\n",
      "        DateofWork  \n",
      "0       2012-04-28  \n",
      "1       2014-06-24  \n",
      "2       2013-09-30  \n",
      "3       2012-04-20  \n",
      "4       2014-09-19  \n",
      "...            ...  \n",
      "481881  2013-03-19  \n",
      "481882  2013-01-25  \n",
      "481883  2013-02-22  \n",
      "481884  2013-01-22  \n",
      "481885  2013-01-23  \n",
      "\n",
      "[481886 rows x 15 columns]\n"
     ]
    }
   ],
   "source": [
    "import pandas as pd\n",
    "\n",
    "# Read the CSV files into DataFrames\n",
    "employee_df = pd.read_csv(\"data/Cleaned_Employee_NoOutliers.csv\")\n",
    "work_details_df = pd.read_csv(\"data/Imputed_WorkDetails.csv\")\n",
    "\n",
    "# Merge data based on EmpCode and Division columns\n",
    "merged_data = pd.merge(employee_df, work_details_df, on=[\"EmpCode\", \"Division\"], how=\"inner\")\n",
    "\n",
    "# Save the merged data to a new CSV file\n",
    "merged_data.to_csv(\"data/Merged_Employee_WorkDetails.csv\", index=False)\n",
    "\n",
    "print(merged_data)"
   ]
  },
  {
   "cell_type": "code",
   "execution_count": null,
   "id": "57e29330-5cea-4f54-aba0-b717627cbd1d",
   "metadata": {},
   "outputs": [],
   "source": []
  }
 ],
 "metadata": {
  "kernelspec": {
   "display_name": "Python 3 (ipykernel)",
   "language": "python",
   "name": "python3"
  },
  "language_info": {
   "codemirror_mode": {
    "name": "ipython",
    "version": 3
   },
   "file_extension": ".py",
   "mimetype": "text/x-python",
   "name": "python",
   "nbconvert_exporter": "python",
   "pygments_lexer": "ipython3",
   "version": "3.8.10"
  }
 },
 "nbformat": 4,
 "nbformat_minor": 5
}

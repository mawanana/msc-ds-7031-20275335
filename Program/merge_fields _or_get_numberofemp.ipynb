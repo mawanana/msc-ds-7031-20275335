{
 "cells": [
  {
   "cell_type": "code",
   "execution_count": 5,
   "id": "9f44baf4-e5df-4984-a0b1-333fbbebcfd5",
   "metadata": {},
   "outputs": [],
   "source": [
    "import pandas as pd\n",
    "\n",
    "# 01. Read the CSV file\n",
    "df = pd.read_csv(\"data/Cleaned_Fields_NoOutliers.csv\")\n",
    "\n",
    "# 02. Create a new column \"NumberOfEmp\" to store the count of rows with the same data\n",
    "df['NumberOfEmp'] = df.groupby(['EState', 'Division', 'CropType', 'Field', 'Area (Ha)', 'NumberOfTree', 'Type'])['EmpCode'].transform('count')\n",
    "\n",
    "# 03. Remove Index and EmpCode columns\n",
    "df = df.drop(columns=[\"Index\", \"EmpCode\"])\n",
    "\n",
    "# 04. Remove duplicates\n",
    "df = df.drop_duplicates()\n",
    "\n",
    "# 05. Reset the index\n",
    "df = df.reset_index(drop=True)\n",
    "\n",
    "# 06. Write the DataFrame to Merged_Fields_NumberOfEmp.csv\n",
    "df.to_csv(\"data/Merged_Fields_NumberOfEmp.csv\", index=False)\n"
   ]
  },
  {
   "cell_type": "code",
   "execution_count": null,
   "id": "49359047-14f9-4992-aa8f-3aeded083cfb",
   "metadata": {},
   "outputs": [],
   "source": []
  }
 ],
 "metadata": {
  "kernelspec": {
   "display_name": "Python 3 (ipykernel)",
   "language": "python",
   "name": "python3"
  },
  "language_info": {
   "codemirror_mode": {
    "name": "ipython",
    "version": 3
   },
   "file_extension": ".py",
   "mimetype": "text/x-python",
   "name": "python",
   "nbconvert_exporter": "python",
   "pygments_lexer": "ipython3",
   "version": "3.8.10"
  }
 },
 "nbformat": 4,
 "nbformat_minor": 5
}

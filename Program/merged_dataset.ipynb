{
 "cells": [
  {
   "cell_type": "code",
   "execution_count": 5,
   "id": "ad7deeee-cd0f-4b92-83da-ccc284ffb7d4",
   "metadata": {},
   "outputs": [
    {
     "name": "stdout",
     "output_type": "stream",
     "text": [
      "Done\n"
     ]
    }
   ],
   "source": [
    "import pandas as pd\n",
    "\n",
    "# Load the datasets\n",
    "employee_df = pd.read_csv(\"data/Cleaned_Employee_NoOutliers.csv\")\n",
    "fields_df = pd.read_csv(\"data/Cleaned_Fields_NoOutliers.csv\")\n",
    "workcode_df = pd.read_csv(\"data/Cleaned_WorkCode.csv\")\n",
    "workdetails_df = pd.read_csv(\"data/Imputed_WorkDetails.csv\")\n",
    "\n",
    "\n",
    "\n",
    "# Load the datasets\n",
    "employee_df = pd.read_csv(\"data/Cleaned_Employee_NoOutliers.csv\", usecols=[\"EmpCode\", \"Gender\", \"DateofJoin\", \"PAMACT\"])\n",
    "workdetails_df = pd.read_csv(\"data/Imputed_WorkDetails.csv\")\n",
    "\n",
    "# Merge Employee.csv and WorkDetails.csv based on 'EmpCode'\n",
    "merged_df = workdetails_df.merge(employee_df, on='EmpCode', how='left')\n",
    "\n",
    "merged_df.to_csv(\"data/test---Merged_WorkDetails.csv\", index=False)\n",
    "print(\"Done\")\n",
    "\n",
    "# Save the merged dataset to a new CSV file\n",
    "merged_df.to_csv(\"Merged_WorkDetails.csv\", index=False)\n",
    "\n",
    "\n",
    "\n",
    "# # Merge Employee.csv and WorkDetails.csv based on 'EmpCode'\n",
    "# merged_df = workdetails_df.merge(employee_df, on='EmpCode', how='left')\n",
    "\n",
    "# merged_df.to_csv(\"data/test---Merged_WorkDetails.csv\", index=False)\n",
    "# print(\"Done\")\n",
    "\n",
    "# # Merge Fields.csv into the merged dataset based on 'Estate' and 'Division'\n",
    "# merged_df = merged_df.merge(fields_df, on=['Estate', 'Division'], how='left')\n",
    "\n",
    "# # Save the merged dataset to a new CSV file\n",
    "# merged_df.to_csv(\"data/Merged_WorkDetails.csv\", index=False)\n"
   ]
  },
  {
   "cell_type": "code",
   "execution_count": null,
   "id": "240d4862-3d2c-48ac-b7d1-13d3f7a32775",
   "metadata": {},
   "outputs": [],
   "source": []
  }
 ],
 "metadata": {
  "kernelspec": {
   "display_name": "Python 3 (ipykernel)",
   "language": "python",
   "name": "python3"
  },
  "language_info": {
   "codemirror_mode": {
    "name": "ipython",
    "version": 3
   },
   "file_extension": ".py",
   "mimetype": "text/x-python",
   "name": "python",
   "nbconvert_exporter": "python",
   "pygments_lexer": "ipython3",
   "version": "3.8.10"
  }
 },
 "nbformat": 4,
 "nbformat_minor": 5
}

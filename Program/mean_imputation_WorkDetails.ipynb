{
 "cells": [
  {
   "cell_type": "code",
   "execution_count": 1,
   "id": "2736f899-b8f8-4253-a943-cf919229d14f",
   "metadata": {},
   "outputs": [
    {
     "name": "stdout",
     "output_type": "stream",
     "text": [
      "Done\n"
     ]
    }
   ],
   "source": [
    "import pandas as pd\n",
    "\n",
    "# Load WorkDetails dataset\n",
    "df = pd.read_csv(\"data/Cleaned_WorkDetails_NoOutliers.csv\")\n",
    "\n",
    "# Perform mean imputation for the 'Qty' column\n",
    "qty_mean = df['Qty'].mean()\n",
    "df['Qty'].fillna(qty_mean, inplace=True)\n",
    "\n",
    "# Perform mean imputation for the 'ExtraKilos' column\n",
    "extrakilos_mean = df['ExtraKilos'].mean()\n",
    "df['ExtraKilos'].fillna(extrakilos_mean, inplace=True)\n",
    "\n",
    "# Save the imputed dataset back to a CSV file\n",
    "df.to_csv(\"data/Imputed_WorkDetails.csv\", index=False)\n",
    "\n",
    "print(\"Done\")"
   ]
  },
  {
   "cell_type": "code",
   "execution_count": null,
   "id": "4a8d830b-97c8-4cb8-a22a-6d2e037c76f8",
   "metadata": {},
   "outputs": [],
   "source": []
  },
  {
   "cell_type": "code",
   "execution_count": null,
   "id": "fad27a2e-d1f6-42e7-9184-1a3c9b669f57",
   "metadata": {},
   "outputs": [],
   "source": []
  }
 ],
 "metadata": {
  "kernelspec": {
   "display_name": "Python 3 (ipykernel)",
   "language": "python",
   "name": "python3"
  },
  "language_info": {
   "codemirror_mode": {
    "name": "ipython",
    "version": 3
   },
   "file_extension": ".py",
   "mimetype": "text/x-python",
   "name": "python",
   "nbconvert_exporter": "python",
   "pygments_lexer": "ipython3",
   "version": "3.8.10"
  }
 },
 "nbformat": 4,
 "nbformat_minor": 5
}

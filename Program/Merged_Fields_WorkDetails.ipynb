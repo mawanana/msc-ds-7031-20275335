{
 "cells": [
  {
   "cell_type": "code",
   "execution_count": 4,
   "id": "0532013b-93bb-464a-b431-c5688d4ef10f",
   "metadata": {},
   "outputs": [],
   "source": [
    "import pandas as pd\n",
    "\n",
    "# Read the CSV files\n",
    "fields_df = pd.read_csv(\"data/Cleaned_Fields_NoOutliers.csv\")\n",
    "work_details_df = pd.read_csv(\"data/Imputed_WorkDetails.csv\")\n",
    "\n",
    "# Remove the index from both input datasets\n",
    "fields_df = fields_df.drop(columns=[\"Index\"])\n",
    "work_details_df = work_details_df.drop(columns=[\"index\"])\n",
    "\n",
    "# Merge the datasets based on \"Division\" and \"EmpCode\"\n",
    "merged_df = fields_df.merge(work_details_df, on=[\"Division\", \"EmpCode\"], how=\"inner\")\n",
    "\n",
    "# Add an index field for the output dataset\n",
    "merged_df.insert(0, 'Index', range(1, 1 + len(merged_df)))\n",
    "\n",
    "# Save the merged dataset to Merged_Fields_WorkDetails.csv\n",
    "merged_df.to_csv(\"data/Merged_Fields_WorkDetails.csv\", index=False)\n"
   ]
  },
  {
   "cell_type": "code",
   "execution_count": null,
   "id": "99c67658-3ca6-41f4-8749-79523e020832",
   "metadata": {},
   "outputs": [],
   "source": []
  }
 ],
 "metadata": {
  "kernelspec": {
   "display_name": "Python 3 (ipykernel)",
   "language": "python",
   "name": "python3"
  },
  "language_info": {
   "codemirror_mode": {
    "name": "ipython",
    "version": 3
   },
   "file_extension": ".py",
   "mimetype": "text/x-python",
   "name": "python",
   "nbconvert_exporter": "python",
   "pygments_lexer": "ipython3",
   "version": "3.8.10"
  }
 },
 "nbformat": 4,
 "nbformat_minor": 5
}

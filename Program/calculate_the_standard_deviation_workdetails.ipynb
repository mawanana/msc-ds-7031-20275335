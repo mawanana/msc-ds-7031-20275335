{
 "cells": [
  {
   "cell_type": "code",
   "execution_count": 1,
   "id": "54f9dd6f-57fe-4950-8f7e-85b50b3bb06f",
   "metadata": {},
   "outputs": [
    {
     "name": "stdout",
     "output_type": "stream",
     "text": [
      "Standard Deviation of Qty: 213.39173039966195\n",
      "Standard Deviation of ExtraKilos: 168.63325914920838\n"
     ]
    }
   ],
   "source": [
    "import pandas as pd\n",
    "\n",
    "# Read the modified CSV file into a DataFrame\n",
    "df = pd.read_csv(\"data/WorkDetails_modified.csv\")\n",
    "\n",
    "# Calculate the standard deviation for \"Qty\" and \"ExtraKilos\"\n",
    "std_deviation_qty = df[\"Qty\"].std()\n",
    "std_deviation_extra_kilos = df[\"ExtraKilos\"].std()\n",
    "\n",
    "print(f\"Standard Deviation of Qty: {std_deviation_qty}\")\n",
    "print(f\"Standard Deviation of ExtraKilos: {std_deviation_extra_kilos}\")\n"
   ]
  },
  {
   "cell_type": "code",
   "execution_count": null,
   "id": "3f0ebd92-64d2-45a5-824c-64d8a8860546",
   "metadata": {},
   "outputs": [],
   "source": []
  }
 ],
 "metadata": {
  "kernelspec": {
   "display_name": "Python 3 (ipykernel)",
   "language": "python",
   "name": "python3"
  },
  "language_info": {
   "codemirror_mode": {
    "name": "ipython",
    "version": 3
   },
   "file_extension": ".py",
   "mimetype": "text/x-python",
   "name": "python",
   "nbconvert_exporter": "python",
   "pygments_lexer": "ipython3",
   "version": "3.8.10"
  }
 },
 "nbformat": 4,
 "nbformat_minor": 5
}

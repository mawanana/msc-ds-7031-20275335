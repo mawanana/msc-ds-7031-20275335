{
 "cells": [
  {
   "cell_type": "code",
   "execution_count": null,
   "id": "47d73631-458d-4f7f-98f8-c383ce73f311",
   "metadata": {},
   "outputs": [],
   "source": [
    "import pandas as pd\n",
    "import matplotlib.pyplot as plt\n",
    "\n",
    "# Load the data from Employee.csv\n",
    "data = pd.read_csv('data/Employee.csv')\n",
    "\n",
    "# Filter out rows with NULL values in the DateofJoin column\n",
    "data = data.dropna(subset=['DateofJoin'])\n",
    "\n",
    "# Group the data by Division\n",
    "division_groups = data.groupby('Division')\n",
    "\n",
    "# Define a list of colors for each division\n",
    "colors = ['b', 'g', 'r', 'c', 'm', 'y', 'k']\n",
    "\n",
    "# Create a plot for each division\n",
    "for i, (division, group) in enumerate(division_groups):\n",
    "    joined_dates = pd.to_datetime(group['DateofJoin'], format='%m/%d/%Y', errors='coerce')\n",
    "    joined_dates = joined_dates.dt.year\n",
    "    joined_dates = joined_dates.value_counts().sort_index()\n",
    "    \n",
    "    # Plot the joined date counts\n",
    "    plt.plot(joined_dates.index, joined_dates.values, label=division, color=colors[i])\n",
    "\n",
    "# Set plot labels and legend\n",
    "plt.xlabel('Joined Date')\n",
    "plt.ylabel('Count')\n",
    "plt.title('Employee Join Dates by Division')\n",
    "plt.legend()\n",
    "\n",
    "# Show the plot\n",
    "plt.show()\n"
   ]
  },
  {
   "cell_type": "code",
   "execution_count": null,
   "id": "bfdd7a5a-bc48-4106-8899-e2bb7ac68419",
   "metadata": {},
   "outputs": [],
   "source": []
  }
 ],
 "metadata": {
  "kernelspec": {
   "display_name": "Python 3 (ipykernel)",
   "language": "python",
   "name": "python3"
  },
  "language_info": {
   "codemirror_mode": {
    "name": "ipython",
    "version": 3
   },
   "file_extension": ".py",
   "mimetype": "text/x-python",
   "name": "python",
   "nbconvert_exporter": "python",
   "pygments_lexer": "ipython3",
   "version": "3.8.10"
  }
 },
 "nbformat": 4,
 "nbformat_minor": 5
}

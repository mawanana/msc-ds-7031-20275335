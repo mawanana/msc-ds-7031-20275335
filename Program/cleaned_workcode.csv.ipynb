{
 "cells": [
  {
   "cell_type": "code",
   "execution_count": 1,
   "id": "f35ba78f-a9bb-4fa7-8e3d-9eaeedc47807",
   "metadata": {},
   "outputs": [
    {
     "name": "stdout",
     "output_type": "stream",
     "text": [
      "Done\n"
     ]
    }
   ],
   "source": [
    "import pandas as pd\n",
    "\n",
    "# Read the CSV file\n",
    "df = pd.read_csv('data/WorkCode.csv')\n",
    "\n",
    "# Task 1: Convert all data to uppercase\n",
    "df = df.apply(lambda x: x.str.upper() if x.name in ['WorCode', 'Crop', 'Type'] else x)\n",
    "\n",
    "# Task 2: Remove duplicate records\n",
    "df.drop_duplicates(inplace=True)\n",
    "\n",
    "# Task 3: Add an extra column 'index' as the first column\n",
    "df.insert(0, 'Index', range(1, len(df) + 1))\n",
    "\n",
    "# Save the modified DataFrame back to a CSV file\n",
    "df.to_csv('data/Cleaned_WorkCode.csv', index=False)\n",
    "print(\"Done\")"
   ]
  },
  {
   "cell_type": "code",
   "execution_count": null,
   "id": "592a6abb-57b2-4922-a644-eef34be63d35",
   "metadata": {},
   "outputs": [],
   "source": []
  }
 ],
 "metadata": {
  "kernelspec": {
   "display_name": "Python 3 (ipykernel)",
   "language": "python",
   "name": "python3"
  },
  "language_info": {
   "codemirror_mode": {
    "name": "ipython",
    "version": 3
   },
   "file_extension": ".py",
   "mimetype": "text/x-python",
   "name": "python",
   "nbconvert_exporter": "python",
   "pygments_lexer": "ipython3",
   "version": "3.8.10"
  }
 },
 "nbformat": 4,
 "nbformat_minor": 5
}

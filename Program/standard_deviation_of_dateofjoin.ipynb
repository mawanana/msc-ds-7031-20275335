{
 "cells": [
  {
   "cell_type": "code",
   "execution_count": 5,
   "id": "63e6e494-a3f6-4650-9729-8957ba1be659",
   "metadata": {},
   "outputs": [
    {
     "name": "stdout",
     "output_type": "stream",
     "text": [
      "Standard Deviation of DateofJoin: 4027 days 07:38:59.539991424\n"
     ]
    }
   ],
   "source": [
    "import pandas as pd\n",
    "import numpy as np\n",
    "\n",
    "# Read the CSV file into a DataFrame\n",
    "df = pd.read_csv(\"data/Employee.csv\")\n",
    "\n",
    "# Drop rows with NULL values in the 'DateofJoin' column\n",
    "df = df.dropna(subset=[\"DateofJoin\"])\n",
    "\n",
    "# Convert the 'DateofJoin' column to datetime with a custom format\n",
    "date_format = \"%m/%d/%Y\"\n",
    "df[\"DateofJoin\"] = pd.to_datetime(df[\"DateofJoin\"], format=date_format, errors=\"coerce\")\n",
    "\n",
    "# Calculate the standard deviation of the 'DateofJoin' column\n",
    "std_deviation = df[\"DateofJoin\"].std()\n",
    "\n",
    "print(f\"Standard Deviation of DateofJoin: {std_deviation}\")\n"
   ]
  },
  {
   "cell_type": "code",
   "execution_count": null,
   "id": "0afac4b5-9dc9-4ad5-aa65-a28cede853b8",
   "metadata": {},
   "outputs": [],
   "source": []
  }
 ],
 "metadata": {
  "kernelspec": {
   "display_name": "Python 3 (ipykernel)",
   "language": "python",
   "name": "python3"
  },
  "language_info": {
   "codemirror_mode": {
    "name": "ipython",
    "version": 3
   },
   "file_extension": ".py",
   "mimetype": "text/x-python",
   "name": "python",
   "nbconvert_exporter": "python",
   "pygments_lexer": "ipython3",
   "version": "3.8.10"
  }
 },
 "nbformat": 4,
 "nbformat_minor": 5
}

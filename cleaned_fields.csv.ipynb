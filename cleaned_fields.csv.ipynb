{
 "cells": [
  {
   "cell_type": "code",
   "execution_count": null,
   "id": "c8c3d506-3578-41fb-b4a0-eed505ec8402",
   "metadata": {},
   "outputs": [],
   "source": [
    "import pandas as pd\n",
    "\n",
    "# Read the CSV file into a DataFrame\n",
    "df = pd.read_csv(\"data/Fields.csv\")\n",
    "\n",
    "# 01. Print records count\n",
    "print(\"01. Records count:\", len(df))\n",
    "\n",
    "# 02. Remove duplicate records\n",
    "df = df.drop_duplicates()\n",
    "\n",
    "# 03. Convert all text data to uppercase\n",
    "df = df.apply(lambda x: x.str.upper() if x.dtype == \"object\" else x)\n",
    "\n",
    "# 04. For ID, print the count of duplicate ID\n",
    "duplicate_id_counts = df[\"ID\"].duplicated(keep=\"first\").sum()\n",
    "print(\"04. Duplicate ID count:\", duplicate_id_counts)\n",
    "\n",
    "# 05. Print the list of duplicate IDs\n",
    "duplicate_ids = df[df[\"ID\"].duplicated(keep=False)][\"ID\"].tolist()\n",
    "print(\"05. Duplicate ID list:\", duplicate_ids)\n",
    "\n",
    "# 06. Remove all duplicate IDs with records\n",
    "df = df.drop_duplicates(subset=\"ID\", keep=False)\n",
    "\n",
    "# 07. Remove the ID column\n",
    "df = df.drop(\"ID\", axis=1)\n",
    "\n",
    "# 08. Add an Index column as the first column\n",
    "df.insert(0, \"Index\", range(1, 1 + len(df)))\n",
    "\n",
    "# 09. Save the output to \"Cleaned_Fields.csv\"\n",
    "df.to_csv(\"data/Cleaned_Fields.csv\", index=False)\n",
    "\n",
    "# 10. Print output records count\n",
    "print(\"10. Output records count:\", len(df))\n"
   ]
  },
  {
   "cell_type": "code",
   "execution_count": null,
   "id": "54057b91-112a-461a-ae2d-bac9ec554c09",
   "metadata": {},
   "outputs": [],
   "source": []
  }
 ],
 "metadata": {
  "kernelspec": {
   "display_name": "Python 3 (ipykernel)",
   "language": "python",
   "name": "python3"
  },
  "language_info": {
   "codemirror_mode": {
    "name": "ipython",
    "version": 3
   },
   "file_extension": ".py",
   "mimetype": "text/x-python",
   "name": "python",
   "nbconvert_exporter": "python",
   "pygments_lexer": "ipython3",
   "version": "3.8.10"
  }
 },
 "nbformat": 4,
 "nbformat_minor": 5
}

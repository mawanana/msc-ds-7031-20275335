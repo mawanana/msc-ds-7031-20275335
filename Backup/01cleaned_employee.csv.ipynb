{
 "cells": [
  {
   "cell_type": "code",
   "execution_count": 11,
   "id": "a64963e7-3271-4c15-bcc6-eb876aca63d0",
   "metadata": {},
   "outputs": [
    {
     "name": "stdout",
     "output_type": "stream",
     "text": [
      "Done\n"
     ]
    }
   ],
   "source": [
    "import pandas as pd\n",
    "\n",
    "# Read the CSV file\n",
    "df = pd.read_csv('data/Employee.csv')\n",
    "\n",
    "# 01. Convert all data to uppercase\n",
    "df = df.apply(lambda x: x.str.upper() if x.dtype == \"object\" else x)\n",
    "\n",
    "# 02. Convert 'DateofJoin' to the desired format\n",
    "df['DateofJoin'] = pd.to_datetime(df['DateofJoin'], format='%m/%d/%Y', errors='coerce')\n",
    "\n",
    "# 03. Remove duplicate records\n",
    "df = df.drop_duplicates()\n",
    "\n",
    "# 04. Add an 'index' column as the first column\n",
    "df.insert(0, 'index', range(1, len(df) + 1))\n",
    "\n",
    "# Save the cleaned data back to a new CSV file\n",
    "df.to_csv('data/Cleaned_Employee.csv', index=False)\n",
    "print(\"Done\")\n"
   ]
  },
  {
   "cell_type": "code",
   "execution_count": null,
   "id": "4b177ae2-bc9d-40d3-b2b7-b9c9c72dc2e7",
   "metadata": {},
   "outputs": [],
   "source": []
  }
 ],
 "metadata": {
  "kernelspec": {
   "display_name": "Python 3 (ipykernel)",
   "language": "python",
   "name": "python3"
  },
  "language_info": {
   "codemirror_mode": {
    "name": "ipython",
    "version": 3
   },
   "file_extension": ".py",
   "mimetype": "text/x-python",
   "name": "python",
   "nbconvert_exporter": "python",
   "pygments_lexer": "ipython3",
   "version": "3.8.10"
  }
 },
 "nbformat": 4,
 "nbformat_minor": 5
}

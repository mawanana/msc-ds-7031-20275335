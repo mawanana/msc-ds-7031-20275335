{
 "cells": [
  {
   "cell_type": "code",
   "execution_count": 2,
   "id": "797700ba-aaca-4a22-8a1d-8c0c24e14e90",
   "metadata": {},
   "outputs": [
    {
     "name": "stdout",
     "output_type": "stream",
     "text": [
      "Total Records Count: 2015\n",
      "Duplicate Records Count: 0\n",
      "Unique EmpCode Count: 1932\n",
      "List of Duplicate EmpCode Values: [42723, 46763, 65852, 66256, 68579, 69589, 69993, 71205, 71710, 72821, 72922, 79487, 81709, 84032, 85446, 85951, 88072, 88173, 89284, 89587, 90193, 92112, 92314, 93425, 93829, 95041, 95647, 96354, 96859, 97566, 98071, 98273, 99182, 99283, 99586, 99990, 100091, 100192, 102818, 103626, 104838, 104939, 106252, 106757, 107161, 107666, 108676, 109888, 109989, 110797, 111100, 111201, 111504, 111605, 111908, 112110, 112413, 112514, 112615, 112716, 113120, 113221, 113322, 113423, 113625, 113726, 113827, 113928, 114029, 352793, 463994, 528533, 2020808, 2020909, 2021010, 439552, 512272, 536209, 555197, 109383]\n"
     ]
    }
   ],
   "source": [
    "import pandas as pd\n",
    "\n",
    "# Read the CSV file into a DataFrame\n",
    "df = pd.read_csv(\"data/Employee.csv\")\n",
    "\n",
    "# Total records count\n",
    "total_records_count = len(df)\n",
    "print(\"Total Records Count:\", total_records_count)\n",
    "\n",
    "# Duplicate records count\n",
    "duplicate_records_count = df.duplicated().sum()\n",
    "print(\"Duplicate Records Count:\", duplicate_records_count)\n",
    "\n",
    "# Unique EmpCode count\n",
    "unique_empcode_count = df['EmpCode'].nunique()\n",
    "print(\"Unique EmpCode Count:\", unique_empcode_count)\n",
    "\n",
    "# List of duplicate EmpCode values\n",
    "duplicate_empcodes = df[df.duplicated(subset='EmpCode', keep=False)]['EmpCode'].unique()\n",
    "print(\"List of Duplicate EmpCode Values:\", list(duplicate_empcodes))\n"
   ]
  },
  {
   "cell_type": "code",
   "execution_count": null,
   "id": "284e834e-d13d-4735-ae68-de15ca3e8b89",
   "metadata": {},
   "outputs": [],
   "source": []
  }
 ],
 "metadata": {
  "kernelspec": {
   "display_name": "Python 3 (ipykernel)",
   "language": "python",
   "name": "python3"
  },
  "language_info": {
   "codemirror_mode": {
    "name": "ipython",
    "version": 3
   },
   "file_extension": ".py",
   "mimetype": "text/x-python",
   "name": "python",
   "nbconvert_exporter": "python",
   "pygments_lexer": "ipython3",
   "version": "3.8.10"
  }
 },
 "nbformat": 4,
 "nbformat_minor": 5
}

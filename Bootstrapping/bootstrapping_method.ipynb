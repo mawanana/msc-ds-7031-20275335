{
 "cells": [
  {
   "cell_type": "code",
   "execution_count": 2,
   "id": "3b5e9b7d-dce2-42ed-aeac-8680478f3140",
   "metadata": {},
   "outputs": [
    {
     "name": "stdout",
     "output_type": "stream",
     "text": [
      "Bootstrapped Training Dataset 1:\n",
      "        Index Estate_x Division  EmpCode Gender  DateofJoin PAMACT  \\\n",
      "311096   1074      EST       ST   204929      F  2003-12-01      A   \n",
      "229423    720      EST       MD   513383      F  1991-08-22      A   \n",
      "185946    663      EST       MD   392587      M  1980-08-01      A   \n",
      "424661   1412      EST       UD   530351      F  1998-09-01      A   \n",
      "5484       17      EST       HO    47773      M  1977-11-18      A   \n",
      "\n",
      "        EmployeeAge   index Estate_y Work  Workdayfraction   Qty  ExtraKilos  \\\n",
      "311096         12.0  620757      EST  XHP              1.0  66.0         0.0   \n",
      "229423         24.0  695290      EST  PLK              1.0  72.0         0.0   \n",
      "185946         35.0  126792      EST  WDM              1.0  28.0         0.0   \n",
      "424661         17.0  731621      EST  PLK              1.0  75.0         0.0   \n",
      "5484           38.0  594476      EST  WDM              1.0  64.0         0.0   \n",
      "\n",
      "        DateofWork  \n",
      "311096  2012-07-02  \n",
      "229423  2014-12-19  \n",
      "185946  2014-04-01  \n",
      "424661  2015-02-10  \n",
      "5484    2012-02-08  \n",
      "\n",
      "Bootstrapped Test Dataset 1:\n",
      "        Index Estate_x Division  EmpCode Gender  DateofJoin PAMACT  \\\n",
      "121951    435      EST       LD   425109      F  1979-10-28      A   \n",
      "401396   1381      EST       UD   510252      F  1989-10-10      A   \n",
      "320618   1279      EST       UD   363499      M  1979-01-01      A   \n",
      "117922    430      EST       LD   394405      M  1980-08-07      A   \n",
      "467159   1465      EST       UD   574791      F  2005-05-01      A   \n",
      "\n",
      "        EmployeeAge   index Estate_y Work  Workdayfraction   Qty  ExtraKilos  \\\n",
      "121951         36.0  367660      EST  ABS              1.0  45.0         3.0   \n",
      "401396         26.0  574586      EST  LLO              1.0  62.0         0.0   \n",
      "320618         37.0  298941      EST  LLO              1.0  40.0         0.0   \n",
      "117922         35.0  400589      EST  LLO              1.0  48.0         0.0   \n",
      "467159         10.0  834006      EST  LLO              1.0  84.0         0.0   \n",
      "\n",
      "        DateofWork  \n",
      "121951  2015-06-09  \n",
      "401396  2014-02-11  \n",
      "320618  2014-02-05  \n",
      "117922  2012-10-11  \n",
      "467159  2014-03-06  \n"
     ]
    }
   ],
   "source": [
    "import pandas as pd\n",
    "from sklearn.utils import resample\n",
    "\n",
    "# Load your dataset\n",
    "df = pd.read_csv('Master_Dataset.csv')\n",
    "\n",
    "# Number of bootstrapped datasets to create\n",
    "num_datasets = 5\n",
    "\n",
    "# Initialize lists to store bootstrapped datasets\n",
    "bootstrapped_train_datasets = []\n",
    "bootstrapped_test_datasets = []\n",
    "\n",
    "# Perform Bootstrapping and save datasets\n",
    "for i in range(num_datasets):\n",
    "    # Resample the data with replacement\n",
    "    bootstrapped_data = resample(df, replace=True)\n",
    "    \n",
    "    # Split the bootstrapped data into training and test sets\n",
    "    train_data = bootstrapped_data.sample(frac=0.8, random_state=42)\n",
    "    test_data = bootstrapped_data.drop(train_data.index)\n",
    "    \n",
    "    # Save bootstrapped datasets as CSV files\n",
    "    train_data.to_csv(f'bootstrapped_train_data_{i}.csv', index=False)\n",
    "    test_data.to_csv(f'bootstrapped_test_data_{i}.csv', index=False)\n",
    "    \n",
    "    # Append the bootstrapped datasets to the lists\n",
    "    bootstrapped_train_datasets.append(train_data)\n",
    "    bootstrapped_test_datasets.append(test_data)\n",
    "\n",
    "# Print the first bootstrapped training and test datasets\n",
    "print(\"Bootstrapped Training Dataset 1:\")\n",
    "print(bootstrapped_train_datasets[0].head())\n",
    "\n",
    "print(\"\\nBootstrapped Test Dataset 1:\")\n",
    "print(bootstrapped_test_datasets[0].head())\n"
   ]
  },
  {
   "cell_type": "code",
   "execution_count": null,
   "id": "815ffd88-d036-4b7c-bb78-ff508eb7b4ff",
   "metadata": {},
   "outputs": [],
   "source": []
  }
 ],
 "metadata": {
  "kernelspec": {
   "display_name": "Python 3 (ipykernel)",
   "language": "python",
   "name": "python3"
  },
  "language_info": {
   "codemirror_mode": {
    "name": "ipython",
    "version": 3
   },
   "file_extension": ".py",
   "mimetype": "text/x-python",
   "name": "python",
   "nbconvert_exporter": "python",
   "pygments_lexer": "ipython3",
   "version": "3.8.10"
  }
 },
 "nbformat": 4,
 "nbformat_minor": 5
}

{
 "cells": [
  {
   "cell_type": "code",
   "execution_count": 1,
   "id": "425a8fe0-5a53-4b6a-bb02-50ac87a1cf7c",
   "metadata": {},
   "outputs": [
    {
     "name": "stdout",
     "output_type": "stream",
     "text": [
      "                 Qty     ExtraKilos\n",
      "count  907547.000000  949750.000000\n",
      "mean       66.785474       8.818867\n",
      "std       213.391730     168.633259\n",
      "min        22.000000       0.000000\n",
      "25%        34.000000       0.000000\n",
      "50%        52.000000       0.000000\n",
      "75%        71.000000       9.000000\n",
      "max      4598.000000    8736.000000\n"
     ]
    }
   ],
   "source": [
    "import pandas as pd\n",
    "\n",
    "# Read the CSV file into a DataFrame\n",
    "df = pd.read_csv(\"data/WorkDetails_modified.csv\")\n",
    "\n",
    "# Calculate summary statistics for \"Qty\" and \"ExtraKilos\"\n",
    "summary_stats = df[[\"Qty\", \"ExtraKilos\"]].describe()\n",
    "\n",
    "print(summary_stats)\n"
   ]
  },
  {
   "cell_type": "code",
   "execution_count": null,
   "id": "062b1ee8-3f8d-4cbe-ab12-545f583e5730",
   "metadata": {},
   "outputs": [],
   "source": []
  }
 ],
 "metadata": {
  "kernelspec": {
   "display_name": "Python 3 (ipykernel)",
   "language": "python",
   "name": "python3"
  },
  "language_info": {
   "codemirror_mode": {
    "name": "ipython",
    "version": 3
   },
   "file_extension": ".py",
   "mimetype": "text/x-python",
   "name": "python",
   "nbconvert_exporter": "python",
   "pygments_lexer": "ipython3",
   "version": "3.8.10"
  }
 },
 "nbformat": 4,
 "nbformat_minor": 5
}

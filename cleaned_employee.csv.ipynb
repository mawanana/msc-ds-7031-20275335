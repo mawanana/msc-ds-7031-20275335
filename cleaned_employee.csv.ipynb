{
 "cells": [
  {
   "cell_type": "code",
   "execution_count": 2,
   "id": "6415f5b7-8038-4ecc-a47c-39521a1e97e1",
   "metadata": {},
   "outputs": [
    {
     "name": "stdout",
     "output_type": "stream",
     "text": [
      "01. Records Count: 2015\n",
      "04. Duplicate EmpCode Count:\n",
      "83\n",
      "05. Duplicate EmpCode List:\n",
      "[463994, 2020808, 2020909, 2021010, 42723, 46763, 65852, 66256, 68579, 69589, 69993, 71205, 71710, 72821, 72922, 79487, 81709, 84032, 85446, 85951, 88072, 88173, 89284, 89587, 90193, 92112, 92314, 93425, 93829, 95041, 95647, 96354, 96859, 97566, 98071, 98273, 99182, 99283, 99586, 99990, 100091, 100192, 102818, 103626, 104838, 104939, 106252, 106757, 107161, 107666, 108676, 109888, 109989, 110797, 111100, 111201, 111504, 111605, 111908, 112110, 112413, 112514, 112615, 112716, 113120, 113221, 113322, 113423, 113625, 113726, 113827, 113928, 114029, 95647, 109383, 110797, 111908, 352793, 439552, 512272, 528533, 536209, 555197]\n",
      "11. Output Records Count: 1852\n"
     ]
    }
   ],
   "source": [
    "import pandas as pd\n",
    "\n",
    "# Read the CSV file into a DataFrame\n",
    "df = pd.read_csv(\"data/Employee.csv\")\n",
    "\n",
    "# 01. Print records count\n",
    "print(\"01. Records Count:\", len(df))\n",
    "\n",
    "# 02. Remove duplicate records\n",
    "df = df.drop_duplicates()\n",
    "\n",
    "# 03. Convert all text data to uppercase\n",
    "df = df.apply(lambda x: x.str.upper() if x.dtype == \"object\" else x)\n",
    "\n",
    "# 04. For EmpCode, print the count of duplicate EmpCode\n",
    "print(\"04. Duplicate EmpCode Count:\")\n",
    "print(df['EmpCode'].duplicated().sum())\n",
    "\n",
    "# 05. Print duplicate EmpCode list\n",
    "print(\"05. Duplicate EmpCode List:\")\n",
    "print(df[df['EmpCode'].duplicated()]['EmpCode'].tolist())\n",
    "\n",
    "# 06. Remove all duplicate EmpCode with the record\n",
    "df = df.drop_duplicates(subset='EmpCode', keep=False)\n",
    "\n",
    "# 07. If there is data for DateofJoin, convert the format\n",
    "df['DateofJoin'] = pd.to_datetime(df['DateofJoin'], errors='coerce', format='%m/%d/%Y')\n",
    "\n",
    "# 08. Create EmployeeAge column\n",
    "df['EmployeeAge'] = (pd.to_datetime('12/31/2015') - df['DateofJoin']).dt.days // 365\n",
    "\n",
    "# 09. Add an Index column as the first column\n",
    "df.insert(0, \"Index\", range(1, 1 + len(df)))\n",
    "\n",
    "# 10. Save the output to Cleaned_Employee.csv\n",
    "df.to_csv(\"data/Cleaned_Employee.csv\", index=False)\n",
    "\n",
    "# 11. Print output records count\n",
    "print(\"11. Output Records Count:\", len(df))\n"
   ]
  },
  {
   "cell_type": "code",
   "execution_count": null,
   "id": "a8682814-9345-43c7-81a5-77c7fd37ab33",
   "metadata": {},
   "outputs": [],
   "source": []
  }
 ],
 "metadata": {
  "kernelspec": {
   "display_name": "Python 3 (ipykernel)",
   "language": "python",
   "name": "python3"
  },
  "language_info": {
   "codemirror_mode": {
    "name": "ipython",
    "version": 3
   },
   "file_extension": ".py",
   "mimetype": "text/x-python",
   "name": "python",
   "nbconvert_exporter": "python",
   "pygments_lexer": "ipython3",
   "version": "3.8.10"
  }
 },
 "nbformat": 4,
 "nbformat_minor": 5
}

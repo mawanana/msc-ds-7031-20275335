{
 "cells": [
  {
   "cell_type": "code",
   "execution_count": 1,
   "id": "af870088-fd99-4ee5-9928-4e7f9fdcd563",
   "metadata": {},
   "outputs": [
    {
     "name": "stdout",
     "output_type": "stream",
     "text": [
      "Done\n"
     ]
    }
   ],
   "source": [
    "import pandas as pd\n",
    "\n",
    "# Load the CSV file\n",
    "df = pd.read_csv('data/WorkDetails.csv')\n",
    "\n",
    "# 1. Convert all text data to uppercase\n",
    "df = df.apply(lambda x: x.str.upper() if x.dtype == 'object' else x)\n",
    "\n",
    "# 2. Merge the first three columns into a new 'DateofWork' column\n",
    "df['DateofWork'] = pd.to_datetime(df[['Year', 'Month', 'Day']].astype(str).agg('-'.join, axis=1), format='%Y-%m-%d')\n",
    "df = df.drop(['Year', 'Month', 'Day'], axis=1)\n",
    "\n",
    "# 3. Remove duplicate records\n",
    "df = df.drop_duplicates()\n",
    "\n",
    "# 4. Add an 'index' column as the first column\n",
    "df.insert(0, 'index', range(1, 1 + len(df)))\n",
    "\n",
    "# Save the modified DataFrame to a new CSV file\n",
    "df.to_csv('data/Cleaned_WorkDetails.csv', index=False)\n",
    "print(\"Done\")"
   ]
  },
  {
   "cell_type": "code",
   "execution_count": null,
   "id": "81c3d237-351d-4afd-8f13-123cd45684cc",
   "metadata": {},
   "outputs": [],
   "source": []
  }
 ],
 "metadata": {
  "kernelspec": {
   "display_name": "Python 3 (ipykernel)",
   "language": "python",
   "name": "python3"
  },
  "language_info": {
   "codemirror_mode": {
    "name": "ipython",
    "version": 3
   },
   "file_extension": ".py",
   "mimetype": "text/x-python",
   "name": "python",
   "nbconvert_exporter": "python",
   "pygments_lexer": "ipython3",
   "version": "3.8.10"
  }
 },
 "nbformat": 4,
 "nbformat_minor": 5
}

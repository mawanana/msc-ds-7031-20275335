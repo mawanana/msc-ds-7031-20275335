{
 "cells": [
  {
   "cell_type": "code",
   "execution_count": 5,
   "id": "0abb0ef5-ecbf-4e05-9992-40435c8a710c",
   "metadata": {},
   "outputs": [
    {
     "name": "stdout",
     "output_type": "stream",
     "text": [
      "Done\n"
     ]
    }
   ],
   "source": [
    "import pandas as pd\n",
    "\n",
    "# Load the CSV file into a DataFrame\n",
    "df = pd.read_csv('data/Fields.csv')\n",
    "\n",
    "# 01. Convert all text data to uppercase\n",
    "df = df.apply(lambda x: x.str.upper() if x.dtype == 'object' else x)\n",
    "\n",
    "# 02. Drop the 'ID' column\n",
    "df = df.drop(columns=['ID'])\n",
    "\n",
    "# 03. Remove duplicate records\n",
    "df = df.drop_duplicates()\n",
    "\n",
    "# 04. Add an 'Index' column as the first column\n",
    "df.insert(0, 'Index', range(1, 1 + len(df)))\n",
    "\n",
    "# Save the modified DataFrame back to a CSV file\n",
    "df.to_csv('data/Cleaned_Fields.csv', index=False)\n",
    "print(\"Done\")"
   ]
  },
  {
   "cell_type": "code",
   "execution_count": null,
   "id": "f8e3a062-a8ec-4d74-b2e5-bc31e736bbb0",
   "metadata": {},
   "outputs": [],
   "source": []
  }
 ],
 "metadata": {
  "kernelspec": {
   "display_name": "Python 3 (ipykernel)",
   "language": "python",
   "name": "python3"
  },
  "language_info": {
   "codemirror_mode": {
    "name": "ipython",
    "version": 3
   },
   "file_extension": ".py",
   "mimetype": "text/x-python",
   "name": "python",
   "nbconvert_exporter": "python",
   "pygments_lexer": "ipython3",
   "version": "3.8.10"
  }
 },
 "nbformat": 4,
 "nbformat_minor": 5
}
